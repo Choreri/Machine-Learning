{
 "cells": [
  {
   "cell_type": "code",
   "execution_count": null,
   "id": "aa92fff9",
   "metadata": {
    "lines_to_next_cell": 1
   },
   "outputs": [],
   "source": [
    "import pandas as pd\n",
    "import xgboost as xgb\n",
    "from sklearn.metrics import classification_report, accuracy_score\n",
    "from sklearn.model_selection import train_test_split\n",
    "from imblearn.over_sampling import SMOTE\n",
    "from sklearn.impute import SimpleImputer"
   ]
  },
  {
   "cell_type": "code",
   "execution_count": null,
   "id": "55802f3a",
   "metadata": {},
   "outputs": [],
   "source": [
    "def preprocess_data(data):\n",
    "    features = [\n",
    "        'total_blue_barons', 'total_blue_drakes', 'total_blue_heralds', 'total_blue_inhibs',\n",
    "        'total_blue_kills', 'total_blue_turrets', 'blue_first_blood', 'blue_first_herald',\n",
    "        'blue_first_drake', 'blue_first_baron', 'blue_first_inhib', 'blue_first_turret',\n",
    "        'total_blue_vs', 'total_blue_gold', 'med_blue_kills', 'med_blue_xp', 'med_blue_gold',\n",
    "        'med_blue_dmg', 'blue_got_soul', 'total_blue_elders', 'med_blue_vs', 'total_red_barons',\n",
    "        'total_red_drakes', 'total_red_heralds', 'total_red_inhibs', 'total_red_kills',\n",
    "        'total_red_turrets', 'red_first_blood', 'red_first_herald', 'red_first_drake',\n",
    "        'red_first_baron', 'red_first_inhib', 'red_first_turret', 'total_red_vs',\n",
    "        'total_red_gold', 'med_red_kills', 'med_red_xp', 'med_red_gold', 'med_red_dmg',\n",
    "        'red_got_soul', 'total_red_elders', 'med_red_vs'\n",
    "    ]\n",
    "    target = 'winning_team'\n",
    "\n",
    "    X = data[features]\n",
    "    y = data[target]\n",
    "\n",
    "    imputer = SimpleImputer(strategy='mean')\n",
    "    X = imputer.fit_transform(X)\n",
    "\n",
    "    smote = SMOTE(random_state=42)\n",
    "    X_resampled, y_resampled = smote.fit_resample(X, y)\n",
    "\n",
    "   \n",
    "    X_train, X_test, y_train, y_test = train_test_split(\n",
    "        X_resampled, y_resampled, test_size=0.2, random_state=42\n",
    "    )\n",
    "    return X_train, X_test, y_train, y_test"
   ]
  },
  {
   "cell_type": "code",
   "execution_count": null,
   "id": "56228326",
   "metadata": {
    "lines_to_next_cell": 2
   },
   "outputs": [],
   "source": [
    "def train_and_evaluate(X_train, X_test, y_train, y_test):\n",
    "    \n",
    "    train_data = xgb.DMatrix(X_train, label=y_train)\n",
    "    test_data = xgb.DMatrix(X_test, label=y_test)\n",
    "\n",
    "    params = {\n",
    "        \"objective\": \"multi:softmax\",  \n",
    "        \"num_class\": len(set(y_train)),  \n",
    "        \"max_depth\": 6,\n",
    "        \"eta\": 0.1,\n",
    "        \"eval_metric\": \"mlogloss\",\n",
    "        \"tree_method\": \"gpu_hist\",  \n",
    "        \"predictor\": \"gpu_predictor\",\n",
    "        \"nthread\": -1,\n",
    "    }\n",
    "\n",
    "    #\n",
    "    evals_result = {}\n",
    "    model = xgb.train(\n",
    "        params,\n",
    "        train_data,\n",
    "        evals=[(test_data, \"validation\")],\n",
    "        num_boost_round=1000,\n",
    "        early_stopping_rounds=50,\n",
    "        evals_result=evals_result,\n",
    "        verbose_eval=10,\n",
    "    )\n",
    "\n",
    "    \n",
    "    y_pred = model.predict(test_data).astype(int)\n",
    "    print(\"\\n[Classification Report]\")\n",
    "    print(classification_report(y_test, y_pred))\n",
    "    accuracy = accuracy_score(y_test, y_pred)\n",
    "    print(f\"Accuracy: {accuracy}\")\n",
    "\n",
    "    return model"
   ]
  },
  {
   "cell_type": "code",
   "execution_count": null,
   "id": "247a591c",
   "metadata": {},
   "outputs": [],
   "source": [
    "if __name__ == \"__main__\":\n",
    " \n",
    "    data_file = \"data/processed/ML_Data.csv\"\n",
    "    print(\"데이터 로드 및 전처리 중...\")\n",
    "    data = pd.read_csv(data_file)\n",
    "\n",
    "    X_train, X_test, y_train, y_test = preprocess_data(data)\n",
    "    \n",
    "    print(\"모델 학습 및 평가 중...\")\n",
    "    model = train_and_evaluate(X_train, X_test, y_train, y_test)\n",
    "\n",
    "    print(\"모델 저장 중...\")\n",
    "    model.save_model(\"xgboost_winning_team_model.json\")\n",
    "    print(\"모든 작업 완료!\")"
   ]
  }
 ],
 "metadata": {
  "jupytext": {
   "cell_metadata_filter": "-all",
   "main_language": "python",
   "notebook_metadata_filter": "-all"
  }
 },
 "nbformat": 4,
 "nbformat_minor": 5
}
